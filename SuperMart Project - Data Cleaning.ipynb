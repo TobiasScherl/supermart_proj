{
 "cells": [
  {
   "cell_type": "code",
   "execution_count": 32,
   "id": "accomplished-grain",
   "metadata": {},
   "outputs": [],
   "source": [
    "import pandas as pd"
   ]
  },
  {
   "cell_type": "code",
   "execution_count": 33,
   "id": "classical-cabin",
   "metadata": {},
   "outputs": [],
   "source": [
    "pd.set_option('display.max_columns', 500)"
   ]
  },
  {
   "cell_type": "code",
   "execution_count": 34,
   "id": "considered-swing",
   "metadata": {},
   "outputs": [],
   "source": [
    "df = pd.read_csv('SuperMart.csv')"
   ]
  },
  {
   "cell_type": "code",
   "execution_count": 35,
   "id": "innocent-athletics",
   "metadata": {},
   "outputs": [
    {
     "data": {
      "text/html": [
       "<div>\n",
       "<style scoped>\n",
       "    .dataframe tbody tr th:only-of-type {\n",
       "        vertical-align: middle;\n",
       "    }\n",
       "\n",
       "    .dataframe tbody tr th {\n",
       "        vertical-align: top;\n",
       "    }\n",
       "\n",
       "    .dataframe thead th {\n",
       "        text-align: right;\n",
       "    }\n",
       "</style>\n",
       "<table border=\"1\" class=\"dataframe\">\n",
       "  <thead>\n",
       "    <tr style=\"text-align: right;\">\n",
       "      <th></th>\n",
       "      <th>Unnamed: 0</th>\n",
       "      <th>order_id</th>\n",
       "      <th>order_date</th>\n",
       "      <th>ship_date</th>\n",
       "      <th>ship_mode</th>\n",
       "      <th>sales</th>\n",
       "      <th>quantity</th>\n",
       "      <th>discount</th>\n",
       "      <th>profit</th>\n",
       "      <th>category</th>\n",
       "      <th>sub_category</th>\n",
       "      <th>product_name</th>\n",
       "      <th>product_id</th>\n",
       "      <th>customer_id</th>\n",
       "      <th>customer_name</th>\n",
       "      <th>segment</th>\n",
       "      <th>age</th>\n",
       "      <th>country</th>\n",
       "      <th>city</th>\n",
       "      <th>state</th>\n",
       "      <th>postal_code</th>\n",
       "      <th>region</th>\n",
       "    </tr>\n",
       "  </thead>\n",
       "  <tbody>\n",
       "    <tr>\n",
       "      <th>0</th>\n",
       "      <td>0</td>\n",
       "      <td>CA-2016-152156</td>\n",
       "      <td>2016-11-08</td>\n",
       "      <td>2016-11-11</td>\n",
       "      <td>Second Class</td>\n",
       "      <td>731.9400</td>\n",
       "      <td>3</td>\n",
       "      <td>0.00</td>\n",
       "      <td>219.5820</td>\n",
       "      <td>Furniture</td>\n",
       "      <td>Chairs</td>\n",
       "      <td>Hon Deluxe Fabric Upholstered Stacking Chairs ...</td>\n",
       "      <td>FUR-CH-10000454</td>\n",
       "      <td>CG-12520</td>\n",
       "      <td>Claire Gute</td>\n",
       "      <td>Consumer</td>\n",
       "      <td>67</td>\n",
       "      <td>United States</td>\n",
       "      <td>Henderson</td>\n",
       "      <td>Kentucky</td>\n",
       "      <td>42420</td>\n",
       "      <td>South</td>\n",
       "    </tr>\n",
       "    <tr>\n",
       "      <th>1</th>\n",
       "      <td>1</td>\n",
       "      <td>CA-2016-138688</td>\n",
       "      <td>2016-06-12</td>\n",
       "      <td>2016-06-16</td>\n",
       "      <td>Second Class</td>\n",
       "      <td>14.6200</td>\n",
       "      <td>2</td>\n",
       "      <td>0.00</td>\n",
       "      <td>6.8714</td>\n",
       "      <td>Office Supplies</td>\n",
       "      <td>Labels</td>\n",
       "      <td>Self-Adhesive Address Labels for Typewriters b...</td>\n",
       "      <td>OFF-LA-10000240</td>\n",
       "      <td>DV-13045</td>\n",
       "      <td>Darrin Van Huff</td>\n",
       "      <td>Corporate</td>\n",
       "      <td>31</td>\n",
       "      <td>United States</td>\n",
       "      <td>Los Angeles</td>\n",
       "      <td>California</td>\n",
       "      <td>90036</td>\n",
       "      <td>West</td>\n",
       "    </tr>\n",
       "    <tr>\n",
       "      <th>2</th>\n",
       "      <td>2</td>\n",
       "      <td>US-2015-108966</td>\n",
       "      <td>2015-10-11</td>\n",
       "      <td>2015-10-18</td>\n",
       "      <td>Standard Class</td>\n",
       "      <td>957.5775</td>\n",
       "      <td>5</td>\n",
       "      <td>0.45</td>\n",
       "      <td>-383.0310</td>\n",
       "      <td>Furniture</td>\n",
       "      <td>Tables</td>\n",
       "      <td>Bretford CR4500 Series Slim Rectangular Table</td>\n",
       "      <td>FUR-TA-10000577</td>\n",
       "      <td>SO-20335</td>\n",
       "      <td>Sean O'Donnell</td>\n",
       "      <td>Consumer</td>\n",
       "      <td>65</td>\n",
       "      <td>United States</td>\n",
       "      <td>Fort Lauderdale</td>\n",
       "      <td>Florida</td>\n",
       "      <td>33311</td>\n",
       "      <td>South</td>\n",
       "    </tr>\n",
       "    <tr>\n",
       "      <th>3</th>\n",
       "      <td>3</td>\n",
       "      <td>US-2015-108966</td>\n",
       "      <td>2015-10-11</td>\n",
       "      <td>2015-10-18</td>\n",
       "      <td>Standard Class</td>\n",
       "      <td>22.3680</td>\n",
       "      <td>2</td>\n",
       "      <td>0.20</td>\n",
       "      <td>2.5164</td>\n",
       "      <td>Office Supplies</td>\n",
       "      <td>Storage</td>\n",
       "      <td>Eldon Fold N Roll Cart System</td>\n",
       "      <td>OFF-ST-10000760</td>\n",
       "      <td>SO-20335</td>\n",
       "      <td>Sean O'Donnell</td>\n",
       "      <td>Consumer</td>\n",
       "      <td>65</td>\n",
       "      <td>United States</td>\n",
       "      <td>Fort Lauderdale</td>\n",
       "      <td>Florida</td>\n",
       "      <td>33311</td>\n",
       "      <td>South</td>\n",
       "    </tr>\n",
       "    <tr>\n",
       "      <th>4</th>\n",
       "      <td>4</td>\n",
       "      <td>CA-2014-115812</td>\n",
       "      <td>2014-06-09</td>\n",
       "      <td>2014-06-14</td>\n",
       "      <td>Standard Class</td>\n",
       "      <td>48.8600</td>\n",
       "      <td>7</td>\n",
       "      <td>0.00</td>\n",
       "      <td>14.1694</td>\n",
       "      <td>Furniture</td>\n",
       "      <td>Furnishings</td>\n",
       "      <td>Eldon Expressions Wood and Plastic Desk Access...</td>\n",
       "      <td>FUR-FU-10001487</td>\n",
       "      <td>BH-11710</td>\n",
       "      <td>Brosina Hoffman</td>\n",
       "      <td>Consumer</td>\n",
       "      <td>20</td>\n",
       "      <td>United States</td>\n",
       "      <td>Los Angeles</td>\n",
       "      <td>California</td>\n",
       "      <td>90032</td>\n",
       "      <td>West</td>\n",
       "    </tr>\n",
       "  </tbody>\n",
       "</table>\n",
       "</div>"
      ],
      "text/plain": [
       "   Unnamed: 0        order_id  order_date   ship_date       ship_mode  \\\n",
       "0           0  CA-2016-152156  2016-11-08  2016-11-11    Second Class   \n",
       "1           1  CA-2016-138688  2016-06-12  2016-06-16    Second Class   \n",
       "2           2  US-2015-108966  2015-10-11  2015-10-18  Standard Class   \n",
       "3           3  US-2015-108966  2015-10-11  2015-10-18  Standard Class   \n",
       "4           4  CA-2014-115812  2014-06-09  2014-06-14  Standard Class   \n",
       "\n",
       "      sales  quantity  discount    profit         category sub_category  \\\n",
       "0  731.9400         3      0.00  219.5820        Furniture       Chairs   \n",
       "1   14.6200         2      0.00    6.8714  Office Supplies       Labels   \n",
       "2  957.5775         5      0.45 -383.0310        Furniture       Tables   \n",
       "3   22.3680         2      0.20    2.5164  Office Supplies      Storage   \n",
       "4   48.8600         7      0.00   14.1694        Furniture  Furnishings   \n",
       "\n",
       "                                        product_name       product_id  \\\n",
       "0  Hon Deluxe Fabric Upholstered Stacking Chairs ...  FUR-CH-10000454   \n",
       "1  Self-Adhesive Address Labels for Typewriters b...  OFF-LA-10000240   \n",
       "2      Bretford CR4500 Series Slim Rectangular Table  FUR-TA-10000577   \n",
       "3                      Eldon Fold N Roll Cart System  OFF-ST-10000760   \n",
       "4  Eldon Expressions Wood and Plastic Desk Access...  FUR-FU-10001487   \n",
       "\n",
       "  customer_id    customer_name    segment  age        country  \\\n",
       "0    CG-12520      Claire Gute   Consumer   67  United States   \n",
       "1    DV-13045  Darrin Van Huff  Corporate   31  United States   \n",
       "2    SO-20335   Sean O'Donnell   Consumer   65  United States   \n",
       "3    SO-20335   Sean O'Donnell   Consumer   65  United States   \n",
       "4    BH-11710  Brosina Hoffman   Consumer   20  United States   \n",
       "\n",
       "              city       state  postal_code region  \n",
       "0        Henderson    Kentucky        42420  South  \n",
       "1      Los Angeles  California        90036   West  \n",
       "2  Fort Lauderdale     Florida        33311  South  \n",
       "3  Fort Lauderdale     Florida        33311  South  \n",
       "4      Los Angeles  California        90032   West  "
      ]
     },
     "execution_count": 35,
     "metadata": {},
     "output_type": "execute_result"
    }
   ],
   "source": [
    "df.head()"
   ]
  },
  {
   "cell_type": "code",
   "execution_count": 36,
   "id": "amended-forth",
   "metadata": {},
   "outputs": [
    {
     "data": {
      "text/plain": [
       "Index(['Unnamed: 0', 'order_id', 'order_date', 'ship_date', 'ship_mode',\n",
       "       'sales', 'quantity', 'discount', 'profit', 'category', 'sub_category',\n",
       "       'product_name', 'product_id', 'customer_id', 'customer_name', 'segment',\n",
       "       'age', 'country', 'city', 'state', 'postal_code', 'region'],\n",
       "      dtype='object')"
      ]
     },
     "execution_count": 36,
     "metadata": {},
     "output_type": "execute_result"
    }
   ],
   "source": [
    "df.columns"
   ]
  },
  {
   "cell_type": "code",
   "execution_count": 37,
   "id": "hybrid-combine",
   "metadata": {},
   "outputs": [],
   "source": [
    "#Drop unnecessary columns\n",
    "df = df.drop('Unnamed: 0', 1)"
   ]
  },
  {
   "cell_type": "code",
   "execution_count": 38,
   "id": "convinced-specific",
   "metadata": {},
   "outputs": [
    {
     "data": {
      "text/html": [
       "<div>\n",
       "<style scoped>\n",
       "    .dataframe tbody tr th:only-of-type {\n",
       "        vertical-align: middle;\n",
       "    }\n",
       "\n",
       "    .dataframe tbody tr th {\n",
       "        vertical-align: top;\n",
       "    }\n",
       "\n",
       "    .dataframe thead th {\n",
       "        text-align: right;\n",
       "    }\n",
       "</style>\n",
       "<table border=\"1\" class=\"dataframe\">\n",
       "  <thead>\n",
       "    <tr style=\"text-align: right;\">\n",
       "      <th></th>\n",
       "      <th>order_id</th>\n",
       "      <th>order_date</th>\n",
       "      <th>ship_date</th>\n",
       "      <th>ship_mode</th>\n",
       "      <th>sales</th>\n",
       "      <th>quantity</th>\n",
       "      <th>discount</th>\n",
       "      <th>profit</th>\n",
       "      <th>category</th>\n",
       "      <th>sub_category</th>\n",
       "      <th>product_name</th>\n",
       "      <th>product_id</th>\n",
       "      <th>customer_id</th>\n",
       "      <th>customer_name</th>\n",
       "      <th>segment</th>\n",
       "      <th>age</th>\n",
       "      <th>country</th>\n",
       "      <th>city</th>\n",
       "      <th>state</th>\n",
       "      <th>postal_code</th>\n",
       "      <th>region</th>\n",
       "    </tr>\n",
       "  </thead>\n",
       "  <tbody>\n",
       "    <tr>\n",
       "      <th>0</th>\n",
       "      <td>CA-2016-152156</td>\n",
       "      <td>2016-11-08</td>\n",
       "      <td>2016-11-11</td>\n",
       "      <td>Second Class</td>\n",
       "      <td>731.9400</td>\n",
       "      <td>3</td>\n",
       "      <td>0.00</td>\n",
       "      <td>219.5820</td>\n",
       "      <td>Furniture</td>\n",
       "      <td>Chairs</td>\n",
       "      <td>Hon Deluxe Fabric Upholstered Stacking Chairs ...</td>\n",
       "      <td>FUR-CH-10000454</td>\n",
       "      <td>CG-12520</td>\n",
       "      <td>Claire Gute</td>\n",
       "      <td>Consumer</td>\n",
       "      <td>67</td>\n",
       "      <td>United States</td>\n",
       "      <td>Henderson</td>\n",
       "      <td>Kentucky</td>\n",
       "      <td>42420</td>\n",
       "      <td>South</td>\n",
       "    </tr>\n",
       "    <tr>\n",
       "      <th>1</th>\n",
       "      <td>CA-2016-138688</td>\n",
       "      <td>2016-06-12</td>\n",
       "      <td>2016-06-16</td>\n",
       "      <td>Second Class</td>\n",
       "      <td>14.6200</td>\n",
       "      <td>2</td>\n",
       "      <td>0.00</td>\n",
       "      <td>6.8714</td>\n",
       "      <td>Office Supplies</td>\n",
       "      <td>Labels</td>\n",
       "      <td>Self-Adhesive Address Labels for Typewriters b...</td>\n",
       "      <td>OFF-LA-10000240</td>\n",
       "      <td>DV-13045</td>\n",
       "      <td>Darrin Van Huff</td>\n",
       "      <td>Corporate</td>\n",
       "      <td>31</td>\n",
       "      <td>United States</td>\n",
       "      <td>Los Angeles</td>\n",
       "      <td>California</td>\n",
       "      <td>90036</td>\n",
       "      <td>West</td>\n",
       "    </tr>\n",
       "    <tr>\n",
       "      <th>2</th>\n",
       "      <td>US-2015-108966</td>\n",
       "      <td>2015-10-11</td>\n",
       "      <td>2015-10-18</td>\n",
       "      <td>Standard Class</td>\n",
       "      <td>957.5775</td>\n",
       "      <td>5</td>\n",
       "      <td>0.45</td>\n",
       "      <td>-383.0310</td>\n",
       "      <td>Furniture</td>\n",
       "      <td>Tables</td>\n",
       "      <td>Bretford CR4500 Series Slim Rectangular Table</td>\n",
       "      <td>FUR-TA-10000577</td>\n",
       "      <td>SO-20335</td>\n",
       "      <td>Sean O'Donnell</td>\n",
       "      <td>Consumer</td>\n",
       "      <td>65</td>\n",
       "      <td>United States</td>\n",
       "      <td>Fort Lauderdale</td>\n",
       "      <td>Florida</td>\n",
       "      <td>33311</td>\n",
       "      <td>South</td>\n",
       "    </tr>\n",
       "    <tr>\n",
       "      <th>3</th>\n",
       "      <td>US-2015-108966</td>\n",
       "      <td>2015-10-11</td>\n",
       "      <td>2015-10-18</td>\n",
       "      <td>Standard Class</td>\n",
       "      <td>22.3680</td>\n",
       "      <td>2</td>\n",
       "      <td>0.20</td>\n",
       "      <td>2.5164</td>\n",
       "      <td>Office Supplies</td>\n",
       "      <td>Storage</td>\n",
       "      <td>Eldon Fold N Roll Cart System</td>\n",
       "      <td>OFF-ST-10000760</td>\n",
       "      <td>SO-20335</td>\n",
       "      <td>Sean O'Donnell</td>\n",
       "      <td>Consumer</td>\n",
       "      <td>65</td>\n",
       "      <td>United States</td>\n",
       "      <td>Fort Lauderdale</td>\n",
       "      <td>Florida</td>\n",
       "      <td>33311</td>\n",
       "      <td>South</td>\n",
       "    </tr>\n",
       "    <tr>\n",
       "      <th>4</th>\n",
       "      <td>CA-2014-115812</td>\n",
       "      <td>2014-06-09</td>\n",
       "      <td>2014-06-14</td>\n",
       "      <td>Standard Class</td>\n",
       "      <td>48.8600</td>\n",
       "      <td>7</td>\n",
       "      <td>0.00</td>\n",
       "      <td>14.1694</td>\n",
       "      <td>Furniture</td>\n",
       "      <td>Furnishings</td>\n",
       "      <td>Eldon Expressions Wood and Plastic Desk Access...</td>\n",
       "      <td>FUR-FU-10001487</td>\n",
       "      <td>BH-11710</td>\n",
       "      <td>Brosina Hoffman</td>\n",
       "      <td>Consumer</td>\n",
       "      <td>20</td>\n",
       "      <td>United States</td>\n",
       "      <td>Los Angeles</td>\n",
       "      <td>California</td>\n",
       "      <td>90032</td>\n",
       "      <td>West</td>\n",
       "    </tr>\n",
       "  </tbody>\n",
       "</table>\n",
       "</div>"
      ],
      "text/plain": [
       "         order_id  order_date   ship_date       ship_mode     sales  quantity  \\\n",
       "0  CA-2016-152156  2016-11-08  2016-11-11    Second Class  731.9400         3   \n",
       "1  CA-2016-138688  2016-06-12  2016-06-16    Second Class   14.6200         2   \n",
       "2  US-2015-108966  2015-10-11  2015-10-18  Standard Class  957.5775         5   \n",
       "3  US-2015-108966  2015-10-11  2015-10-18  Standard Class   22.3680         2   \n",
       "4  CA-2014-115812  2014-06-09  2014-06-14  Standard Class   48.8600         7   \n",
       "\n",
       "   discount    profit         category sub_category  \\\n",
       "0      0.00  219.5820        Furniture       Chairs   \n",
       "1      0.00    6.8714  Office Supplies       Labels   \n",
       "2      0.45 -383.0310        Furniture       Tables   \n",
       "3      0.20    2.5164  Office Supplies      Storage   \n",
       "4      0.00   14.1694        Furniture  Furnishings   \n",
       "\n",
       "                                        product_name       product_id  \\\n",
       "0  Hon Deluxe Fabric Upholstered Stacking Chairs ...  FUR-CH-10000454   \n",
       "1  Self-Adhesive Address Labels for Typewriters b...  OFF-LA-10000240   \n",
       "2      Bretford CR4500 Series Slim Rectangular Table  FUR-TA-10000577   \n",
       "3                      Eldon Fold N Roll Cart System  OFF-ST-10000760   \n",
       "4  Eldon Expressions Wood and Plastic Desk Access...  FUR-FU-10001487   \n",
       "\n",
       "  customer_id    customer_name    segment  age        country  \\\n",
       "0    CG-12520      Claire Gute   Consumer   67  United States   \n",
       "1    DV-13045  Darrin Van Huff  Corporate   31  United States   \n",
       "2    SO-20335   Sean O'Donnell   Consumer   65  United States   \n",
       "3    SO-20335   Sean O'Donnell   Consumer   65  United States   \n",
       "4    BH-11710  Brosina Hoffman   Consumer   20  United States   \n",
       "\n",
       "              city       state  postal_code region  \n",
       "0        Henderson    Kentucky        42420  South  \n",
       "1      Los Angeles  California        90036   West  \n",
       "2  Fort Lauderdale     Florida        33311  South  \n",
       "3  Fort Lauderdale     Florida        33311  South  \n",
       "4      Los Angeles  California        90032   West  "
      ]
     },
     "execution_count": 38,
     "metadata": {},
     "output_type": "execute_result"
    }
   ],
   "source": [
    "df.head()"
   ]
  },
  {
   "cell_type": "code",
   "execution_count": 39,
   "id": "imported-basin",
   "metadata": {},
   "outputs": [
    {
     "data": {
      "text/plain": [
       "order_id         0\n",
       "order_date       0\n",
       "ship_date        0\n",
       "ship_mode        0\n",
       "sales            0\n",
       "quantity         0\n",
       "discount         0\n",
       "profit           0\n",
       "category         0\n",
       "sub_category     0\n",
       "product_name     0\n",
       "product_id       0\n",
       "customer_id      0\n",
       "customer_name    0\n",
       "segment          0\n",
       "age              0\n",
       "country          0\n",
       "city             0\n",
       "state            0\n",
       "postal_code      0\n",
       "region           0\n",
       "dtype: int64"
      ]
     },
     "execution_count": 39,
     "metadata": {},
     "output_type": "execute_result"
    }
   ],
   "source": [
    "df.isna().sum()"
   ]
  },
  {
   "cell_type": "code",
   "execution_count": 40,
   "id": "settled-advertising",
   "metadata": {},
   "outputs": [],
   "source": [
    "#df.isnull().sum()"
   ]
  },
  {
   "cell_type": "code",
   "execution_count": 41,
   "id": "designing-table",
   "metadata": {},
   "outputs": [],
   "source": [
    "# Zero nan values -> nothing further thats needs to be dropped"
   ]
  },
  {
   "cell_type": "code",
   "execution_count": 42,
   "id": "peaceful-scout",
   "metadata": {},
   "outputs": [
    {
     "data": {
      "text/html": [
       "<div>\n",
       "<style scoped>\n",
       "    .dataframe tbody tr th:only-of-type {\n",
       "        vertical-align: middle;\n",
       "    }\n",
       "\n",
       "    .dataframe tbody tr th {\n",
       "        vertical-align: top;\n",
       "    }\n",
       "\n",
       "    .dataframe thead th {\n",
       "        text-align: right;\n",
       "    }\n",
       "</style>\n",
       "<table border=\"1\" class=\"dataframe\">\n",
       "  <thead>\n",
       "    <tr style=\"text-align: right;\">\n",
       "      <th></th>\n",
       "      <th>count</th>\n",
       "      <th>mean</th>\n",
       "      <th>std</th>\n",
       "      <th>min</th>\n",
       "      <th>25%</th>\n",
       "      <th>50%</th>\n",
       "      <th>75%</th>\n",
       "      <th>max</th>\n",
       "    </tr>\n",
       "  </thead>\n",
       "  <tbody>\n",
       "    <tr>\n",
       "      <th>sales</th>\n",
       "      <td>9990.0</td>\n",
       "      <td>229.823514</td>\n",
       "      <td>623.359856</td>\n",
       "      <td>0.444</td>\n",
       "      <td>17.256000</td>\n",
       "      <td>54.38400</td>\n",
       "      <td>209.9175</td>\n",
       "      <td>22638.480</td>\n",
       "    </tr>\n",
       "    <tr>\n",
       "      <th>quantity</th>\n",
       "      <td>9990.0</td>\n",
       "      <td>3.789890</td>\n",
       "      <td>2.225364</td>\n",
       "      <td>1.000</td>\n",
       "      <td>2.000000</td>\n",
       "      <td>3.00000</td>\n",
       "      <td>5.0000</td>\n",
       "      <td>14.000</td>\n",
       "    </tr>\n",
       "    <tr>\n",
       "      <th>discount</th>\n",
       "      <td>9990.0</td>\n",
       "      <td>0.156180</td>\n",
       "      <td>0.206458</td>\n",
       "      <td>0.000</td>\n",
       "      <td>0.000000</td>\n",
       "      <td>0.20000</td>\n",
       "      <td>0.2000</td>\n",
       "      <td>0.800</td>\n",
       "    </tr>\n",
       "    <tr>\n",
       "      <th>profit</th>\n",
       "      <td>9990.0</td>\n",
       "      <td>28.674008</td>\n",
       "      <td>234.303483</td>\n",
       "      <td>-6599.978</td>\n",
       "      <td>1.731375</td>\n",
       "      <td>8.67125</td>\n",
       "      <td>29.3640</td>\n",
       "      <td>8399.976</td>\n",
       "    </tr>\n",
       "    <tr>\n",
       "      <th>age</th>\n",
       "      <td>9990.0</td>\n",
       "      <td>44.434735</td>\n",
       "      <td>15.667147</td>\n",
       "      <td>18.000</td>\n",
       "      <td>31.000000</td>\n",
       "      <td>45.00000</td>\n",
       "      <td>59.0000</td>\n",
       "      <td>70.000</td>\n",
       "    </tr>\n",
       "    <tr>\n",
       "      <th>postal_code</th>\n",
       "      <td>9990.0</td>\n",
       "      <td>55323.388689</td>\n",
       "      <td>31473.711280</td>\n",
       "      <td>1841.000</td>\n",
       "      <td>27405.000000</td>\n",
       "      <td>55901.00000</td>\n",
       "      <td>90004.0000</td>\n",
       "      <td>99207.000</td>\n",
       "    </tr>\n",
       "  </tbody>\n",
       "</table>\n",
       "</div>"
      ],
      "text/plain": [
       "              count          mean           std       min           25%  \\\n",
       "sales        9990.0    229.823514    623.359856     0.444     17.256000   \n",
       "quantity     9990.0      3.789890      2.225364     1.000      2.000000   \n",
       "discount     9990.0      0.156180      0.206458     0.000      0.000000   \n",
       "profit       9990.0     28.674008    234.303483 -6599.978      1.731375   \n",
       "age          9990.0     44.434735     15.667147    18.000     31.000000   \n",
       "postal_code  9990.0  55323.388689  31473.711280  1841.000  27405.000000   \n",
       "\n",
       "                     50%         75%        max  \n",
       "sales           54.38400    209.9175  22638.480  \n",
       "quantity         3.00000      5.0000     14.000  \n",
       "discount         0.20000      0.2000      0.800  \n",
       "profit           8.67125     29.3640   8399.976  \n",
       "age             45.00000     59.0000     70.000  \n",
       "postal_code  55901.00000  90004.0000  99207.000  "
      ]
     },
     "execution_count": 42,
     "metadata": {},
     "output_type": "execute_result"
    }
   ],
   "source": [
    "df.describe().T"
   ]
  },
  {
   "cell_type": "code",
   "execution_count": 43,
   "id": "modular-speaker",
   "metadata": {},
   "outputs": [
    {
     "data": {
      "text/plain": [
       "Index(['order_id', 'order_date', 'ship_date', 'ship_mode', 'sales', 'quantity',\n",
       "       'discount', 'profit', 'category', 'sub_category', 'product_name',\n",
       "       'product_id', 'customer_id', 'customer_name', 'segment', 'age',\n",
       "       'country', 'city', 'state', 'postal_code', 'region'],\n",
       "      dtype='object')"
      ]
     },
     "execution_count": 43,
     "metadata": {},
     "output_type": "execute_result"
    }
   ],
   "source": [
    "df.columns"
   ]
  },
  {
   "cell_type": "code",
   "execution_count": 44,
   "id": "expressed-tuner",
   "metadata": {},
   "outputs": [
    {
     "data": {
      "text/plain": [
       "array(['Second Class', 'Standard Class', 'First Class', 'Same Day'],\n",
       "      dtype=object)"
      ]
     },
     "execution_count": 44,
     "metadata": {},
     "output_type": "execute_result"
    }
   ],
   "source": [
    "df['ship_mode'].unique()"
   ]
  },
  {
   "cell_type": "code",
   "execution_count": 45,
   "id": "ahead-germany",
   "metadata": {},
   "outputs": [
    {
     "data": {
      "text/plain": [
       "array([ 3,  2,  5,  7,  4,  6,  9,  1,  8, 14, 11, 13, 10, 12],\n",
       "      dtype=int64)"
      ]
     },
     "execution_count": 45,
     "metadata": {},
     "output_type": "execute_result"
    }
   ],
   "source": [
    "df['quantity'].unique()"
   ]
  },
  {
   "cell_type": "code",
   "execution_count": 46,
   "id": "checked-mining",
   "metadata": {},
   "outputs": [
    {
     "data": {
      "text/plain": [
       "array(['Furniture', 'Office Supplies', 'Technology'], dtype=object)"
      ]
     },
     "execution_count": 46,
     "metadata": {},
     "output_type": "execute_result"
    }
   ],
   "source": [
    "df['category'].unique()"
   ]
  },
  {
   "cell_type": "code",
   "execution_count": 47,
   "id": "confident-cooling",
   "metadata": {},
   "outputs": [
    {
     "data": {
      "text/plain": [
       "array(['Chairs', 'Labels', 'Tables', 'Storage', 'Furnishings', 'Art',\n",
       "       'Phones', 'Binders', 'Appliances', 'Paper', 'Accessories',\n",
       "       'Bookcases', 'Envelopes', 'Fasteners', 'Supplies', 'Machines',\n",
       "       'Copiers'], dtype=object)"
      ]
     },
     "execution_count": 47,
     "metadata": {},
     "output_type": "execute_result"
    }
   ],
   "source": [
    "df['sub_category'].unique()"
   ]
  },
  {
   "cell_type": "code",
   "execution_count": 48,
   "id": "casual-intervention",
   "metadata": {},
   "outputs": [
    {
     "data": {
      "text/plain": [
       "array(['Consumer', 'Corporate', 'Home Office'], dtype=object)"
      ]
     },
     "execution_count": 48,
     "metadata": {},
     "output_type": "execute_result"
    }
   ],
   "source": [
    "df['segment'].unique()"
   ]
  },
  {
   "cell_type": "code",
   "execution_count": 49,
   "id": "spoken-elizabeth",
   "metadata": {},
   "outputs": [
    {
     "data": {
      "text/plain": [
       "array([67, 31, 65, 20, 50, 66, 46, 18, 41, 34, 21, 48, 19, 28, 51, 27, 64,\n",
       "       40, 23, 69, 45, 59, 35, 25, 29, 42, 56, 33, 70, 63, 62, 55, 36, 24,\n",
       "       52, 30, 57, 60, 26, 49, 61, 39, 44, 43, 22, 68, 54, 58, 38, 32, 53,\n",
       "       47, 37], dtype=int64)"
      ]
     },
     "execution_count": 49,
     "metadata": {},
     "output_type": "execute_result"
    }
   ],
   "source": [
    "df['age'].unique()"
   ]
  },
  {
   "cell_type": "code",
   "execution_count": 50,
   "id": "elect-sunset",
   "metadata": {},
   "outputs": [
    {
     "data": {
      "text/plain": [
       "array(['United States'], dtype=object)"
      ]
     },
     "execution_count": 50,
     "metadata": {},
     "output_type": "execute_result"
    }
   ],
   "source": [
    "df['country'].unique()"
   ]
  },
  {
   "cell_type": "code",
   "execution_count": 51,
   "id": "democratic-heater",
   "metadata": {},
   "outputs": [],
   "source": [
    "#Drop unnecessary columns\n",
    "df = df.drop('country', 1)"
   ]
  },
  {
   "cell_type": "code",
   "execution_count": 52,
   "id": "enabling-freeze",
   "metadata": {},
   "outputs": [
    {
     "data": {
      "text/plain": [
       "array([42420, 90036, 33311, 90032, 28027, 98103, 76106, 53711, 84084,\n",
       "       94109, 68025, 19140, 84057, 90049, 77095, 75080, 77041, 60540,\n",
       "       32935, 55122, 48185, 19901, 47150, 10024, 12180, 90004, 60610,\n",
       "       85234, 22153, 10009, 38109, 35601, 94122, 27707, 60623, 55901,\n",
       "       55407, 97206, 55106, 80013, 28205, 60462, 10035, 50322, 43229,\n",
       "       37620, 19805, 61701, 85023, 95661, 64055, 91104, 43055, 53132,\n",
       "       85254, 95123, 98105, 98115, 73034, 90045, 19134, 88220, 78207,\n",
       "       77036, 62521, 71203,  6824, 75051, 92374, 45011,  7090, 19120,\n",
       "       44312, 80219, 75220, 37064, 90604, 48601, 44256, 43017, 48227,\n",
       "       38401, 95051, 55044, 92037, 77506, 94513, 27514, 45231, 94110,\n",
       "       90301, 33319, 80906,  8701, 22204, 80004,  7601, 33710, 19143,\n",
       "       90805, 92345, 37130,  1852, 31907,  6040, 78550, 85705, 62301,\n",
       "        2038, 48180, 33024, 98198, 61604, 89115,  2886, 33180, 92646,\n",
       "        1841, 39212, 10801, 28052, 32216, 77070, 47201, 13021, 94521,\n",
       "       60068, 11757, 92024, 77340, 14609, 72701, 80134, 30318, 64118,\n",
       "       48234, 33801, 36116, 85204, 60653, 54302, 45503, 28403, 33614,\n",
       "       90008, 98270, 40475, 97301, 78041, 75217, 43123, 10011, 48126,\n",
       "       31088, 92691, 48307, 98661, 60505, 75081, 44105, 75701, 27217,\n",
       "       22980, 19013, 27511, 32137, 10550, 33012, 78745, 11572, 60201,\n",
       "       48183, 55016, 71111, 50315, 93534, 28806, 92530, 92105, 92704,\n",
       "       53209,  7109, 40214, 44052,  7036, 93905,  8901, 17602, 21044,\n",
       "       49201,  6360, 92503, 78664, 92054, 80027, 23464, 92563, 63376,\n",
       "       43615, 78521, 94601, 20735, 30076, 46350, 48911, 92025, 14215,\n",
       "       39503, 93727, 27834, 35630,  2908, 81001, 94533, 32725, 42071,\n",
       "        6457, 28540, 90660, 30080, 24153, 92627, 44134, 36608, 75061,\n",
       "        8360, 14304, 27360, 75019, 92677,  8302,  2149, 11561, 75002,\n",
       "       79907, 76051, 98502, 98031, 70506, 97224, 20016, 60076, 89031,\n",
       "       23434, 46203, 27405, 53142, 66062, 74133, 27604, 31204, 42104,\n",
       "       99207, 22901, 13601, 76017, 80020, 36830,  8861, 91761, 21215,\n",
       "       33437, 95207,  3820, 77840, 63116, 95336, 44240, 84106, 35810,\n",
       "       43302, 80122, 28110, 85345, 57103, 80525, 37042, 87105, 60126,\n",
       "       28314, 14701, 46544, 92253, 75007, 65807, 79109, 43130, 94591,\n",
       "       32303, 84107, 88001, 35244, 70601, 85301, 48146, 92307, 60035,\n",
       "       77301, 75023, 75150, 19711,  2169, 78501, 61107, 38301, 32114,\n",
       "       73120, 84043, 44107, 68104,  3301,  2920, 52601, 60004],\n",
       "      dtype=int64)"
      ]
     },
     "execution_count": 52,
     "metadata": {},
     "output_type": "execute_result"
    }
   ],
   "source": [
    "df['postal_code'].unique()"
   ]
  },
  {
   "cell_type": "code",
   "execution_count": 53,
   "id": "impaired-textbook",
   "metadata": {},
   "outputs": [
    {
     "data": {
      "text/plain": [
       "array(['Kentucky', 'California', 'Florida', 'North Carolina',\n",
       "       'Washington', 'Texas', 'Wisconsin', 'Utah', 'Nebraska',\n",
       "       'Pennsylvania', 'Illinois', 'Minnesota', 'Michigan', 'Delaware',\n",
       "       'Indiana', 'New York', 'Arizona', 'Virginia', 'Tennessee',\n",
       "       'Alabama', 'Oregon', 'Colorado', 'Iowa', 'Ohio', 'Missouri',\n",
       "       'Oklahoma', 'New Mexico', 'Louisiana', 'Connecticut', 'New Jersey',\n",
       "       'Massachusetts', 'Georgia', 'Nevada', 'Rhode Island',\n",
       "       'Mississippi', 'Arkansas', 'Maryland', 'District of Columbia',\n",
       "       'Kansas', 'New Hampshire', 'South Dakota'], dtype=object)"
      ]
     },
     "execution_count": 53,
     "metadata": {},
     "output_type": "execute_result"
    }
   ],
   "source": [
    "df['state'].unique()"
   ]
  },
  {
   "cell_type": "code",
   "execution_count": 54,
   "id": "qualified-sustainability",
   "metadata": {},
   "outputs": [
    {
     "data": {
      "text/plain": [
       "array(['South', 'West', 'Central', 'East'], dtype=object)"
      ]
     },
     "execution_count": 54,
     "metadata": {},
     "output_type": "execute_result"
    }
   ],
   "source": [
    "df['region'].unique()"
   ]
  },
  {
   "cell_type": "code",
   "execution_count": 55,
   "id": "changed-sunglasses",
   "metadata": {},
   "outputs": [
    {
     "data": {
      "text/plain": [
       "array(['Henderson', 'Los Angeles', 'Fort Lauderdale', 'Concord',\n",
       "       'Seattle', 'Fort Worth', 'Madison', 'West Jordan', 'San Francisco',\n",
       "       'Fremont', 'Philadelphia', 'Orem', 'Houston', 'Richardson',\n",
       "       'Naperville', 'Melbourne', 'Eagan', 'Westland', 'Dover',\n",
       "       'New Albany', 'New York City', 'Troy', 'Chicago', 'Gilbert',\n",
       "       'Springfield', 'Memphis', 'Decatur', 'Durham', 'Rochester',\n",
       "       'Minneapolis', 'Portland', 'Saint Paul', 'Aurora', 'Charlotte',\n",
       "       'Orland Park', 'Urbandale', 'Columbus', 'Bristol', 'Wilmington',\n",
       "       'Bloomington', 'Phoenix', 'Roseville', 'Independence', 'Pasadena',\n",
       "       'Newark', 'Franklin', 'Scottsdale', 'San Jose', 'Edmond',\n",
       "       'Carlsbad', 'San Antonio', 'Monroe', 'Fairfield', 'Grand Prairie',\n",
       "       'Redlands', 'Hamilton', 'Westfield', 'Akron', 'Denver', 'Dallas',\n",
       "       'Whittier', 'Saginaw', 'Medina', 'Dublin', 'Detroit', 'Columbia',\n",
       "       'Santa Clara', 'Lakeville', 'San Diego', 'Brentwood',\n",
       "       'Chapel Hill', 'Cincinnati', 'Inglewood', 'Tamarac',\n",
       "       'Colorado Springs', 'Lakewood', 'Arlington', 'Arvada',\n",
       "       'Hackensack', 'Saint Petersburg', 'Long Beach', 'Hesperia',\n",
       "       'Murfreesboro', 'Lowell', 'Manchester', 'Harlingen', 'Tucson',\n",
       "       'Quincy', 'Taylor', 'Pembroke Pines', 'Des Moines', 'Peoria',\n",
       "       'Las Vegas', 'Warwick', 'Miami', 'Huntington Beach', 'Lawrence',\n",
       "       'Jackson', 'New Rochelle', 'Gastonia', 'Jacksonville', 'Auburn',\n",
       "       'Park Ridge', 'Lindenhurst', 'Huntsville', 'Fayetteville',\n",
       "       'Parker', 'Atlanta', 'Gladstone', 'Lakeland', 'Montgomery', 'Mesa',\n",
       "       'Green Bay', 'Tampa', 'Marysville', 'Richmond', 'Salem', 'Laredo',\n",
       "       'Grove City', 'Dearborn', 'Warner Robins', 'Mission Viejo',\n",
       "       'Rochester Hills', 'Vancouver', 'Cleveland', 'Tyler', 'Burlington',\n",
       "       'Waynesboro', 'Chester', 'Cary', 'Palm Coast', 'Mount Vernon',\n",
       "       'Hialeah', 'Austin', 'Oceanside', 'Evanston', 'Trenton',\n",
       "       'Cottage Grove', 'Bossier City', 'Lancaster', 'Asheville',\n",
       "       'Lake Elsinore', 'Santa Ana', 'Milwaukee', 'Belleville',\n",
       "       'Louisville', 'Lorain', 'Linden', 'Salinas', 'New Brunswick',\n",
       "       'Norwich', 'Riverside', 'Round Rock', 'Virginia Beach', 'Murrieta',\n",
       "       'Saint Peters', 'Toledo', 'Brownsville', 'Oakland', 'Clinton',\n",
       "       'Roswell', 'La Porte', 'Lansing', 'Escondido', 'Buffalo',\n",
       "       'Gulfport', 'Fresno', 'Greenville', 'Florence', 'Providence',\n",
       "       'Pueblo', 'Deltona', 'Murray', 'Middletown', 'Pico Rivera',\n",
       "       'Smyrna', 'Costa Mesa', 'Parma', 'Mobile', 'Irving', 'Vineland',\n",
       "       'Niagara Falls', 'Thomasville', 'Coppell', 'Laguna Niguel',\n",
       "       'Bridgeton', 'Everett', 'Allen', 'El Paso', 'Grapevine', 'Olympia',\n",
       "       'Kent', 'Lafayette', 'Tigard', 'Washington', 'Skokie',\n",
       "       'North Las Vegas', 'Suffolk', 'Indianapolis', 'Greensboro',\n",
       "       'Kenosha', 'Olathe', 'Tulsa', 'Raleigh', 'Macon', 'Bowling Green',\n",
       "       'Spokane', 'Charlottesville', 'Watertown', 'Broomfield',\n",
       "       'Perth Amboy', 'Ontario', 'Baltimore', 'Boynton Beach', 'Stockton',\n",
       "       'College Station', 'Saint Louis', 'Manteca', 'Salt Lake City',\n",
       "       'Marion', 'Littleton', 'Sioux Falls', 'Fort Collins',\n",
       "       'Clarksville', 'Albuquerque', 'Elmhurst', 'Jamestown', 'Mishawaka',\n",
       "       'La Quinta', 'Carrollton', 'Amarillo', 'Vallejo', 'Tallahassee',\n",
       "       'Las Cruces', 'Encinitas', 'Hoover', 'Lake Charles', 'Glendale',\n",
       "       'Lincoln Park', 'Apple Valley', 'Highland Park', 'Conroe', 'Plano',\n",
       "       'Mesquite', 'Mcallen', 'Rockford', 'Daytona Beach',\n",
       "       'Oklahoma City', 'Lehi', 'Omaha', 'Cranston', 'Arlington Heights'],\n",
       "      dtype=object)"
      ]
     },
     "execution_count": 55,
     "metadata": {},
     "output_type": "execute_result"
    }
   ],
   "source": [
    "df['city'].unique()"
   ]
  },
  {
   "cell_type": "code",
   "execution_count": 56,
   "id": "acoustic-librarian",
   "metadata": {},
   "outputs": [],
   "source": [
    "# No strange values included => no clean-up necessary here"
   ]
  },
  {
   "cell_type": "code",
   "execution_count": 57,
   "id": "greatest-jersey",
   "metadata": {},
   "outputs": [],
   "source": [
    "df.to_csv('SuperMart_cleaned.csv', index=False)"
   ]
  },
  {
   "cell_type": "code",
   "execution_count": null,
   "id": "processed-citizenship",
   "metadata": {},
   "outputs": [],
   "source": []
  }
 ],
 "metadata": {
  "kernelspec": {
   "display_name": "Python 3",
   "language": "python",
   "name": "python3"
  },
  "language_info": {
   "codemirror_mode": {
    "name": "ipython",
    "version": 3
   },
   "file_extension": ".py",
   "mimetype": "text/x-python",
   "name": "python",
   "nbconvert_exporter": "python",
   "pygments_lexer": "ipython3",
   "version": "3.9.2"
  }
 },
 "nbformat": 4,
 "nbformat_minor": 5
}
