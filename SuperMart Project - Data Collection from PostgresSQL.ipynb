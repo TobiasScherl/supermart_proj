{
 "cells": [
  {
   "cell_type": "code",
   "execution_count": 1,
   "id": "precious-nigeria",
   "metadata": {},
   "outputs": [
    {
     "name": "stdout",
     "output_type": "stream",
     "text": [
      "Requirement already satisfied: psycopg2 in c:\\users\\tobis\\downloads\\wpy64-3920\\python-3.9.2.amd64\\lib\\site-packages (2.9.1)\n"
     ]
    },
    {
     "name": "stderr",
     "output_type": "stream",
     "text": [
      "WARNING: You are using pip version 21.0.1; however, version 21.3.1 is available.\n",
      "You should consider upgrading via the 'C:\\Users\\tobis\\Downloads\\WPy64-3920\\python-3.9.2.amd64\\python.exe -m pip install --upgrade pip' command.\n"
     ]
    }
   ],
   "source": [
    "!pip install psycopg2\n",
    "import psycopg2"
   ]
  },
  {
   "cell_type": "code",
   "execution_count": 2,
   "id": "organizational-leonard",
   "metadata": {},
   "outputs": [],
   "source": [
    "import pandas as pd"
   ]
  },
  {
   "cell_type": "code",
   "execution_count": 3,
   "id": "initial-villa",
   "metadata": {},
   "outputs": [],
   "source": [
    "conn = psycopg2.connect(host=\"127.0.0.1\", port = 5432, database=\"SuperMart_DB\", user=\"postgres\", password=\"postgres\")"
   ]
  },
  {
   "cell_type": "code",
   "execution_count": 4,
   "id": "incorporate-mileage",
   "metadata": {},
   "outputs": [],
   "source": [
    "def create_pandas_table(sql_query, database = conn):\n",
    "    table = pd.read_sql_query(sql_query, database)\n",
    "    return table"
   ]
  },
  {
   "cell_type": "code",
   "execution_count": 5,
   "id": "bound-recycling",
   "metadata": {},
   "outputs": [],
   "source": [
    "query = \"\"\"\n",
    "select \ts.order_id, \n",
    "\t\ts.order_date, \n",
    "\t\ts.ship_date,\n",
    "\t\ts.ship_mode,\n",
    "\t\ts.sales,\n",
    "\t\ts.quantity,\n",
    "\t\ts.discount,\n",
    "\t\ts.profit,\n",
    "\t\tp.category,\n",
    "\t\tp.sub_category,\n",
    "\t\tp.product_name,\n",
    "\t\tp.product_id,\n",
    "\t\tc.customer_id,\n",
    "\t\tc.customer_name,\n",
    "\t\tc.segment,\n",
    "\t\tc.age,\n",
    "\t\tc.country,\n",
    "\t\tc.city,\n",
    "\t\tc.state,\n",
    "\t\tc.postal_code,\n",
    "\t\tc.region\t\n",
    "from sales s\n",
    "join customer c\n",
    "on s.customer_id = c.customer_id\n",
    "join product p\n",
    "on s.product_id = p.product_id;\"\"\""
   ]
  },
  {
   "cell_type": "code",
   "execution_count": 6,
   "id": "victorian-methodology",
   "metadata": {},
   "outputs": [],
   "source": [
    "pd.set_option('display.max_columns', 500)"
   ]
  },
  {
   "cell_type": "code",
   "execution_count": 7,
   "id": "stopped-module",
   "metadata": {},
   "outputs": [
    {
     "data": {
      "text/html": [
       "<div>\n",
       "<style scoped>\n",
       "    .dataframe tbody tr th:only-of-type {\n",
       "        vertical-align: middle;\n",
       "    }\n",
       "\n",
       "    .dataframe tbody tr th {\n",
       "        vertical-align: top;\n",
       "    }\n",
       "\n",
       "    .dataframe thead th {\n",
       "        text-align: right;\n",
       "    }\n",
       "</style>\n",
       "<table border=\"1\" class=\"dataframe\">\n",
       "  <thead>\n",
       "    <tr style=\"text-align: right;\">\n",
       "      <th></th>\n",
       "      <th>order_id</th>\n",
       "      <th>order_date</th>\n",
       "      <th>ship_date</th>\n",
       "      <th>ship_mode</th>\n",
       "      <th>sales</th>\n",
       "      <th>quantity</th>\n",
       "      <th>discount</th>\n",
       "      <th>profit</th>\n",
       "      <th>category</th>\n",
       "      <th>sub_category</th>\n",
       "      <th>product_name</th>\n",
       "      <th>product_id</th>\n",
       "      <th>customer_id</th>\n",
       "      <th>customer_name</th>\n",
       "      <th>segment</th>\n",
       "      <th>age</th>\n",
       "      <th>country</th>\n",
       "      <th>city</th>\n",
       "      <th>state</th>\n",
       "      <th>postal_code</th>\n",
       "      <th>region</th>\n",
       "    </tr>\n",
       "  </thead>\n",
       "  <tbody>\n",
       "    <tr>\n",
       "      <th>0</th>\n",
       "      <td>CA-2016-152156</td>\n",
       "      <td>2016-11-08</td>\n",
       "      <td>2016-11-11</td>\n",
       "      <td>Second Class</td>\n",
       "      <td>731.9400</td>\n",
       "      <td>3</td>\n",
       "      <td>0.00</td>\n",
       "      <td>219.5820</td>\n",
       "      <td>Furniture</td>\n",
       "      <td>Chairs</td>\n",
       "      <td>Hon Deluxe Fabric Upholstered Stacking Chairs ...</td>\n",
       "      <td>FUR-CH-10000454</td>\n",
       "      <td>CG-12520</td>\n",
       "      <td>Claire Gute</td>\n",
       "      <td>Consumer</td>\n",
       "      <td>67</td>\n",
       "      <td>United States</td>\n",
       "      <td>Henderson</td>\n",
       "      <td>Kentucky</td>\n",
       "      <td>42420</td>\n",
       "      <td>South</td>\n",
       "    </tr>\n",
       "    <tr>\n",
       "      <th>1</th>\n",
       "      <td>CA-2016-138688</td>\n",
       "      <td>2016-06-12</td>\n",
       "      <td>2016-06-16</td>\n",
       "      <td>Second Class</td>\n",
       "      <td>14.6200</td>\n",
       "      <td>2</td>\n",
       "      <td>0.00</td>\n",
       "      <td>6.8714</td>\n",
       "      <td>Office Supplies</td>\n",
       "      <td>Labels</td>\n",
       "      <td>Self-Adhesive Address Labels for Typewriters b...</td>\n",
       "      <td>OFF-LA-10000240</td>\n",
       "      <td>DV-13045</td>\n",
       "      <td>Darrin Van Huff</td>\n",
       "      <td>Corporate</td>\n",
       "      <td>31</td>\n",
       "      <td>United States</td>\n",
       "      <td>Los Angeles</td>\n",
       "      <td>California</td>\n",
       "      <td>90036</td>\n",
       "      <td>West</td>\n",
       "    </tr>\n",
       "    <tr>\n",
       "      <th>2</th>\n",
       "      <td>US-2015-108966</td>\n",
       "      <td>2015-10-11</td>\n",
       "      <td>2015-10-18</td>\n",
       "      <td>Standard Class</td>\n",
       "      <td>957.5775</td>\n",
       "      <td>5</td>\n",
       "      <td>0.45</td>\n",
       "      <td>-383.0310</td>\n",
       "      <td>Furniture</td>\n",
       "      <td>Tables</td>\n",
       "      <td>Bretford CR4500 Series Slim Rectangular Table</td>\n",
       "      <td>FUR-TA-10000577</td>\n",
       "      <td>SO-20335</td>\n",
       "      <td>Sean O'Donnell</td>\n",
       "      <td>Consumer</td>\n",
       "      <td>65</td>\n",
       "      <td>United States</td>\n",
       "      <td>Fort Lauderdale</td>\n",
       "      <td>Florida</td>\n",
       "      <td>33311</td>\n",
       "      <td>South</td>\n",
       "    </tr>\n",
       "    <tr>\n",
       "      <th>3</th>\n",
       "      <td>US-2015-108966</td>\n",
       "      <td>2015-10-11</td>\n",
       "      <td>2015-10-18</td>\n",
       "      <td>Standard Class</td>\n",
       "      <td>22.3680</td>\n",
       "      <td>2</td>\n",
       "      <td>0.20</td>\n",
       "      <td>2.5164</td>\n",
       "      <td>Office Supplies</td>\n",
       "      <td>Storage</td>\n",
       "      <td>Eldon Fold N Roll Cart System</td>\n",
       "      <td>OFF-ST-10000760</td>\n",
       "      <td>SO-20335</td>\n",
       "      <td>Sean O'Donnell</td>\n",
       "      <td>Consumer</td>\n",
       "      <td>65</td>\n",
       "      <td>United States</td>\n",
       "      <td>Fort Lauderdale</td>\n",
       "      <td>Florida</td>\n",
       "      <td>33311</td>\n",
       "      <td>South</td>\n",
       "    </tr>\n",
       "    <tr>\n",
       "      <th>4</th>\n",
       "      <td>CA-2014-115812</td>\n",
       "      <td>2014-06-09</td>\n",
       "      <td>2014-06-14</td>\n",
       "      <td>Standard Class</td>\n",
       "      <td>48.8600</td>\n",
       "      <td>7</td>\n",
       "      <td>0.00</td>\n",
       "      <td>14.1694</td>\n",
       "      <td>Furniture</td>\n",
       "      <td>Furnishings</td>\n",
       "      <td>Eldon Expressions Wood and Plastic Desk Access...</td>\n",
       "      <td>FUR-FU-10001487</td>\n",
       "      <td>BH-11710</td>\n",
       "      <td>Brosina Hoffman</td>\n",
       "      <td>Consumer</td>\n",
       "      <td>20</td>\n",
       "      <td>United States</td>\n",
       "      <td>Los Angeles</td>\n",
       "      <td>California</td>\n",
       "      <td>90032</td>\n",
       "      <td>West</td>\n",
       "    </tr>\n",
       "  </tbody>\n",
       "</table>\n",
       "</div>"
      ],
      "text/plain": [
       "         order_id  order_date   ship_date       ship_mode     sales  quantity  \\\n",
       "0  CA-2016-152156  2016-11-08  2016-11-11    Second Class  731.9400         3   \n",
       "1  CA-2016-138688  2016-06-12  2016-06-16    Second Class   14.6200         2   \n",
       "2  US-2015-108966  2015-10-11  2015-10-18  Standard Class  957.5775         5   \n",
       "3  US-2015-108966  2015-10-11  2015-10-18  Standard Class   22.3680         2   \n",
       "4  CA-2014-115812  2014-06-09  2014-06-14  Standard Class   48.8600         7   \n",
       "\n",
       "   discount    profit         category sub_category  \\\n",
       "0      0.00  219.5820        Furniture       Chairs   \n",
       "1      0.00    6.8714  Office Supplies       Labels   \n",
       "2      0.45 -383.0310        Furniture       Tables   \n",
       "3      0.20    2.5164  Office Supplies      Storage   \n",
       "4      0.00   14.1694        Furniture  Furnishings   \n",
       "\n",
       "                                        product_name       product_id  \\\n",
       "0  Hon Deluxe Fabric Upholstered Stacking Chairs ...  FUR-CH-10000454   \n",
       "1  Self-Adhesive Address Labels for Typewriters b...  OFF-LA-10000240   \n",
       "2      Bretford CR4500 Series Slim Rectangular Table  FUR-TA-10000577   \n",
       "3                      Eldon Fold N Roll Cart System  OFF-ST-10000760   \n",
       "4  Eldon Expressions Wood and Plastic Desk Access...  FUR-FU-10001487   \n",
       "\n",
       "  customer_id    customer_name    segment  age        country  \\\n",
       "0    CG-12520      Claire Gute   Consumer   67  United States   \n",
       "1    DV-13045  Darrin Van Huff  Corporate   31  United States   \n",
       "2    SO-20335   Sean O'Donnell   Consumer   65  United States   \n",
       "3    SO-20335   Sean O'Donnell   Consumer   65  United States   \n",
       "4    BH-11710  Brosina Hoffman   Consumer   20  United States   \n",
       "\n",
       "              city       state  postal_code region  \n",
       "0        Henderson    Kentucky        42420  South  \n",
       "1      Los Angeles  California        90036   West  \n",
       "2  Fort Lauderdale     Florida        33311  South  \n",
       "3  Fort Lauderdale     Florida        33311  South  \n",
       "4      Los Angeles  California        90032   West  "
      ]
     },
     "execution_count": 7,
     "metadata": {},
     "output_type": "execute_result"
    }
   ],
   "source": [
    "df = create_pandas_table(query)\n",
    "df.head()"
   ]
  },
  {
   "cell_type": "code",
   "execution_count": 8,
   "id": "coated-basic",
   "metadata": {},
   "outputs": [
    {
     "data": {
      "text/plain": [
       "9990"
      ]
     },
     "execution_count": 8,
     "metadata": {},
     "output_type": "execute_result"
    }
   ],
   "source": [
    "len(df)"
   ]
  },
  {
   "cell_type": "code",
   "execution_count": 9,
   "id": "acknowledged-sociology",
   "metadata": {},
   "outputs": [
    {
     "data": {
      "text/plain": [
       "order_id          object\n",
       "order_date        object\n",
       "ship_date         object\n",
       "ship_mode         object\n",
       "sales            float64\n",
       "quantity           int64\n",
       "discount         float64\n",
       "profit           float64\n",
       "category          object\n",
       "sub_category      object\n",
       "product_name      object\n",
       "product_id        object\n",
       "customer_id       object\n",
       "customer_name     object\n",
       "segment           object\n",
       "age                int64\n",
       "country           object\n",
       "city              object\n",
       "state             object\n",
       "postal_code        int64\n",
       "region            object\n",
       "dtype: object"
      ]
     },
     "execution_count": 9,
     "metadata": {},
     "output_type": "execute_result"
    }
   ],
   "source": [
    "df.dtypes"
   ]
  },
  {
   "cell_type": "code",
   "execution_count": 10,
   "id": "peaceful-trial",
   "metadata": {},
   "outputs": [],
   "source": [
    "df.to_csv('SuperMart.csv')"
   ]
  },
  {
   "cell_type": "code",
   "execution_count": null,
   "id": "instructional-offer",
   "metadata": {},
   "outputs": [],
   "source": []
  }
 ],
 "metadata": {
  "kernelspec": {
   "display_name": "Python 3",
   "language": "python",
   "name": "python3"
  },
  "language_info": {
   "codemirror_mode": {
    "name": "ipython",
    "version": 3
   },
   "file_extension": ".py",
   "mimetype": "text/x-python",
   "name": "python",
   "nbconvert_exporter": "python",
   "pygments_lexer": "ipython3",
   "version": "3.9.2"
  }
 },
 "nbformat": 4,
 "nbformat_minor": 5
}
